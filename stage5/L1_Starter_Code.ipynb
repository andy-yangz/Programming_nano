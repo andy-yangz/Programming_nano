{
 "cells": [
  {
   "cell_type": "code",
   "execution_count": null,
   "metadata": {
    "collapsed": true
   },
   "outputs": [],
   "source": [
    "## Load Data from CSVs"
   ]
  },
  {
   "cell_type": "code",
   "execution_count": 2,
   "metadata": {
    "collapsed": true
   },
   "outputs": [],
   "source": [
    "import unicodecsv\n",
    "\n",
    "## Longer version of code (replaced with shorter, equivalent version below)\n",
    "\n",
    "# enrollments = []\n",
    "# f = open('enrollments.csv', 'rb')\n",
    "# reader = unicodecsv.DictReader(f)\n",
    "# for row in reader:\n",
    "#     enrollments.append(row)\n",
    "# f.close()\n",
    "\n",
    "def read_csv(filename):\n",
    "    with open(filename, 'rb') as f:\n",
    "        reader = unicodecsv.DictReader(f)\n",
    "        return list(reader)\n"
   ]
  },
  {
   "cell_type": "code",
   "execution_count": 3,
   "metadata": {
    "collapsed": false
   },
   "outputs": [],
   "source": [
    "#####################################\n",
    "#                 1                 #\n",
    "#####################################\n",
    "\n",
    "## Read in the data from daily_engagement.csv and project_submissions.csv \n",
    "## and store the results in the below variables.\n",
    "## Then look at the first row of each table.\n",
    "enrollments = read_csv('enrollments.csv')\n",
    "daily_engagement = read_csv('daily_engagement.csv')\n",
    "project_submissions = read_csv('project_submissions.csv')\n",
    "\n",
    "# print enrollments[0]\n",
    "# print daily_engagement[0]\n",
    "# print project_submissions[0]"
   ]
  },
  {
   "cell_type": "markdown",
   "metadata": {},
   "source": [
    "## Fixing Data Types"
   ]
  },
  {
   "cell_type": "code",
   "execution_count": 4,
   "metadata": {
    "collapsed": false
   },
   "outputs": [
    {
     "data": {
      "text/plain": [
       "{u'account_key': u'448',\n",
       " u'cancel_date': datetime.datetime(2015, 1, 14, 0, 0),\n",
       " u'days_to_cancel': 65,\n",
       " u'is_canceled': True,\n",
       " u'is_udacity': True,\n",
       " u'join_date': datetime.datetime(2014, 11, 10, 0, 0),\n",
       " u'status': u'canceled'}"
      ]
     },
     "execution_count": 4,
     "metadata": {},
     "output_type": "execute_result"
    }
   ],
   "source": [
    "from datetime import datetime as dt\n",
    "\n",
    "# Takes a date as a string, and returns a Python datetime object. \n",
    "# If there is no date given, returns None\n",
    "def parse_date(date):\n",
    "    if date == '':\n",
    "        return None\n",
    "    else:\n",
    "        return dt.strptime(date, '%Y-%m-%d')\n",
    "    \n",
    "# Takes a string which is either an empty string or represents an integer,\n",
    "# and returns an int or None.\n",
    "def parse_maybe_int(i):\n",
    "    if i == '':\n",
    "        return None\n",
    "    else:\n",
    "        return int(i)\n",
    "\n",
    "# Clean up the data types in the enrollments table\n",
    "for enrollment in enrollments:\n",
    "    enrollment['cancel_date'] = parse_date(enrollment['cancel_date'])\n",
    "    enrollment['days_to_cancel'] = parse_maybe_int(enrollment['days_to_cancel'])\n",
    "    enrollment['is_canceled'] = enrollment['is_canceled'] == 'True'\n",
    "    enrollment['is_udacity'] = enrollment['is_udacity'] == 'True'\n",
    "    enrollment['join_date'] = parse_date(enrollment['join_date'])\n",
    "    \n",
    "enrollments[0]"
   ]
  },
  {
   "cell_type": "code",
   "execution_count": 5,
   "metadata": {
    "collapsed": false
   },
   "outputs": [
    {
     "data": {
      "text/plain": [
       "u'0'"
      ]
     },
     "execution_count": 5,
     "metadata": {},
     "output_type": "execute_result"
    }
   ],
   "source": [
    "# Clean up the data types in the engagement table\n",
    "for engagement_record in daily_engagement:\n",
    "    engagement_record['lessons_completed'] = int(float(engagement_record['lessons_completed']))\n",
    "    engagement_record['num_courses_visited'] = int(float(engagement_record['num_courses_visited']))\n",
    "    engagement_record['projects_completed'] = int(float(engagement_record['projects_completed']))\n",
    "    engagement_record['total_minutes_visited'] = float(engagement_record['total_minutes_visited'])\n",
    "    engagement_record['utc_date'] = parse_date(engagement_record['utc_date'])\n",
    "    \n",
    "daily_engagement[0]['acct']"
   ]
  },
  {
   "cell_type": "code",
   "execution_count": 6,
   "metadata": {
    "collapsed": false
   },
   "outputs": [
    {
     "data": {
      "text/plain": [
       "{u'account_key': u'256',\n",
       " u'assigned_rating': u'UNGRADED',\n",
       " u'completion_date': datetime.datetime(2015, 1, 16, 0, 0),\n",
       " u'creation_date': datetime.datetime(2015, 1, 14, 0, 0),\n",
       " u'lesson_key': u'3176718735',\n",
       " u'processing_state': u'EVALUATED'}"
      ]
     },
     "execution_count": 6,
     "metadata": {},
     "output_type": "execute_result"
    }
   ],
   "source": [
    "# Clean up the data types in the submissions table\n",
    "for submission in project_submissions:\n",
    "    submission['completion_date'] = parse_date(submission['completion_date'])\n",
    "    submission['creation_date'] = parse_date(submission['creation_date'])\n",
    "\n",
    "project_submissions[0]"
   ]
  },
  {
   "cell_type": "code",
   "execution_count": null,
   "metadata": {
    "collapsed": true
   },
   "outputs": [],
   "source": []
  },
  {
   "cell_type": "markdown",
   "metadata": {},
   "source": [
    "## Investigating the Data"
   ]
  },
  {
   "cell_type": "code",
   "execution_count": 7,
   "metadata": {
    "collapsed": false
   },
   "outputs": [
    {
     "ename": "KeyError",
     "evalue": "'account_key'",
     "output_type": "error",
     "traceback": [
      "\u001b[0;31m---------------------------------------------------------------------------\u001b[0m",
      "\u001b[0;31mKeyError\u001b[0m                                  Traceback (most recent call last)",
      "\u001b[0;32m<ipython-input-7-ea490b64f3e9>\u001b[0m in \u001b[0;36m<module>\u001b[0;34m()\u001b[0m\n\u001b[1;32m     29\u001b[0m \u001b[0;34m\u001b[0m\u001b[0m\n\u001b[1;32m     30\u001b[0m \u001b[0mengagement_num_rows\u001b[0m \u001b[0;34m=\u001b[0m \u001b[0mlen\u001b[0m\u001b[0;34m(\u001b[0m\u001b[0mdaily_engagement\u001b[0m\u001b[0;34m)\u001b[0m\u001b[0;34m\u001b[0m\u001b[0m\n\u001b[0;32m---> 31\u001b[0;31m \u001b[0mengagement_student\u001b[0m \u001b[0;34m=\u001b[0m \u001b[0mnum_unique_students\u001b[0m\u001b[0;34m(\u001b[0m\u001b[0mdaily_engagement\u001b[0m\u001b[0;34m)\u001b[0m\u001b[0;34m\u001b[0m\u001b[0m\n\u001b[0m\u001b[1;32m     32\u001b[0m \u001b[0mengagement_num_unique_students\u001b[0m \u001b[0;34m=\u001b[0m \u001b[0mlen\u001b[0m\u001b[0;34m(\u001b[0m\u001b[0mengagement_student\u001b[0m\u001b[0;34m)\u001b[0m\u001b[0;34m\u001b[0m\u001b[0m\n\u001b[1;32m     33\u001b[0m \u001b[0;34m\u001b[0m\u001b[0m\n",
      "\u001b[0;32m<ipython-input-7-ea490b64f3e9>\u001b[0m in \u001b[0;36mnum_unique_students\u001b[0;34m(data)\u001b[0m\n\u001b[1;32m     16\u001b[0m     \u001b[0munique_students_num\u001b[0m \u001b[0;34m=\u001b[0m \u001b[0mset\u001b[0m\u001b[0;34m(\u001b[0m\u001b[0;34m)\u001b[0m\u001b[0;34m\u001b[0m\u001b[0m\n\u001b[1;32m     17\u001b[0m     \u001b[0;32mfor\u001b[0m \u001b[0mi\u001b[0m \u001b[0;32min\u001b[0m \u001b[0mdata\u001b[0m\u001b[0;34m:\u001b[0m\u001b[0;34m\u001b[0m\u001b[0m\n\u001b[0;32m---> 18\u001b[0;31m         \u001b[0munique_students_num\u001b[0m\u001b[0;34m.\u001b[0m\u001b[0madd\u001b[0m\u001b[0;34m(\u001b[0m\u001b[0mi\u001b[0m\u001b[0;34m[\u001b[0m\u001b[0;34m'account_key'\u001b[0m\u001b[0;34m]\u001b[0m\u001b[0;34m)\u001b[0m\u001b[0;34m\u001b[0m\u001b[0m\n\u001b[0m\u001b[1;32m     19\u001b[0m     \u001b[0;32mreturn\u001b[0m \u001b[0munique_students_num\u001b[0m\u001b[0;34m\u001b[0m\u001b[0m\n\u001b[1;32m     20\u001b[0m \u001b[0;34m\u001b[0m\u001b[0m\n",
      "\u001b[0;31mKeyError\u001b[0m: 'account_key'"
     ]
    }
   ],
   "source": [
    "#####################################\n",
    "#                 2                 #\n",
    "#####################################\n",
    "\n",
    "## Find the total number of rows and the number of unique students (account keys)\n",
    "## in each table.\n",
    "\n",
    "# List version\n",
    "#     unique_student_num = []\n",
    "#     for i in range(num_rows):\n",
    "#         if data[i]['account_key'] not in unique_student_num:\n",
    "#             unique_student_num.append(data[i]['account_key'])\n",
    "#     return unique_student_num\n",
    "\n",
    "def num_unique_students(data):\n",
    "    unique_students_num = set()\n",
    "    for i in data:\n",
    "        unique_students_num.add(i['account_key'])\n",
    "    return unique_students_num\n",
    "\n",
    "\n",
    "enrollment_num_rows = len(enrollments)\n",
    "enrollment_student = num_unique_students(enrollments)\n",
    "enrollment_num_unique_students = len(enrollment_student)\n",
    "\n",
    "submission_num_rows = len(project_submissions)\n",
    "submission_student = num_unique_students(project_submissions)\n",
    "submission_num_unique_students = len(submission_student)\n",
    "\n",
    "engagement_num_rows = len(daily_engagement)\n",
    "engagement_student = num_unique_students(daily_engagement)\n",
    "engagement_num_unique_students = len(engagement_student)\n",
    "\n",
    "# The answer method, using set structure\n"
   ]
  },
  {
   "cell_type": "code",
   "execution_count": null,
   "metadata": {
    "collapsed": false
   },
   "outputs": [],
   "source": [
    "print('Engagement Student Number: ', engagement_num_unique_students)\n",
    "print('Submission Student Number: ', submission_num_unique_students)\n",
    "print('Enrollment Student Number: ', enrollment_num_unique_students)\n"
   ]
  },
  {
   "cell_type": "code",
   "execution_count": null,
   "metadata": {
    "collapsed": false
   },
   "outputs": [],
   "source": []
  },
  {
   "cell_type": "code",
   "execution_count": null,
   "metadata": {
    "collapsed": false
   },
   "outputs": [],
   "source": []
  },
  {
   "cell_type": "code",
   "execution_count": null,
   "metadata": {
    "collapsed": false
   },
   "outputs": [],
   "source": []
  },
  {
   "cell_type": "code",
   "execution_count": null,
   "metadata": {
    "collapsed": false
   },
   "outputs": [],
   "source": []
  },
  {
   "cell_type": "markdown",
   "metadata": {},
   "source": [
    "## Problems in the Data"
   ]
  },
  {
   "cell_type": "code",
   "execution_count": 8,
   "metadata": {
    "collapsed": false
   },
   "outputs": [
    {
     "name": "stdout",
     "output_type": "stream",
     "text": [
      "{u'lessons_completed': 0, u'num_courses_visited': 1, u'total_minutes_visited': 11.6793745, u'projects_completed': 0, 'account_key': u'0', u'utc_date': datetime.datetime(2015, 1, 9, 0, 0)}\n"
     ]
    }
   ],
   "source": [
    "#####################################\n",
    "#                 3                 #\n",
    "#####################################\n",
    "\n",
    "## Rename the \"acct\" column in the daily_engagement table to \"account_key\".\n",
    "for i in range(len(daily_engagement)):\n",
    "    daily_engagement[i]['account_key'] = daily_engagement[i]['acct']\n",
    "    del daily_engagement[i]['acct']\n",
    "print daily_engagement[0]"
   ]
  },
  {
   "cell_type": "markdown",
   "metadata": {},
   "source": [
    "## Missing Engagement Records"
   ]
  },
  {
   "cell_type": "code",
   "execution_count": 9,
   "metadata": {
    "collapsed": false
   },
   "outputs": [
    {
     "ename": "NameError",
     "evalue": "name 'engagement_student' is not defined",
     "output_type": "error",
     "traceback": [
      "\u001b[0;31m---------------------------------------------------------------------------\u001b[0m",
      "\u001b[0;31mNameError\u001b[0m                                 Traceback (most recent call last)",
      "\u001b[0;32m<ipython-input-9-bce716bbde13>\u001b[0m in \u001b[0;36m<module>\u001b[0;34m()\u001b[0m\n\u001b[1;32m     15\u001b[0m \u001b[0;34m\u001b[0m\u001b[0m\n\u001b[1;32m     16\u001b[0m \u001b[0;34m\u001b[0m\u001b[0m\n\u001b[0;32m---> 17\u001b[0;31m \u001b[0mstrange_student\u001b[0m \u001b[0;34m=\u001b[0m \u001b[0menrollment_student\u001b[0m \u001b[0;34m-\u001b[0m \u001b[0mengagement_student\u001b[0m\u001b[0;34m\u001b[0m\u001b[0m\n\u001b[0m\u001b[1;32m     18\u001b[0m \u001b[0mstrange_enroll_record\u001b[0m \u001b[0;34m=\u001b[0m \u001b[0;34m[\u001b[0m\u001b[0;34m]\u001b[0m\u001b[0;34m\u001b[0m\u001b[0m\n\u001b[1;32m     19\u001b[0m \u001b[0;32mfor\u001b[0m \u001b[0menroll_record\u001b[0m \u001b[0;32min\u001b[0m \u001b[0menrollments\u001b[0m\u001b[0;34m:\u001b[0m\u001b[0;34m\u001b[0m\u001b[0m\n",
      "\u001b[0;31mNameError\u001b[0m: name 'engagement_student' is not defined"
     ]
    }
   ],
   "source": [
    "#####################################\n",
    "#                 4                 #\n",
    "#####################################\n",
    "\n",
    "## Find any one student enrollments where the student is missing from the daily engagement table.\n",
    "## Output that enrollment.\n",
    "# Find strange records has without corresponding engagement\n",
    "# data\n",
    "#Teacher's code\n",
    "# for enrollment in enrollments:\n",
    "#     students = enrollment['account_key']\n",
    "#     if student not in engagement_student:\n",
    "#         print enrollment\n",
    "#         break\n",
    "\n",
    "\n",
    "strange_student = enrollment_student - engagement_student\n",
    "strange_enroll_record = []\n",
    "for enroll_record in enrollments:\n",
    "    if enroll_record['account_key'] in strange_student:\n",
    "        strange_enroll_record.append(enroll_record)\n",
    "print len(strange_student)\n",
    "for dis_recor in strange_enroll_record[0:5]:\n",
    "    print dis_recor"
   ]
  },
  {
   "cell_type": "markdown",
   "metadata": {},
   "source": [
    "## Checking for More Problem Records"
   ]
  },
  {
   "cell_type": "code",
   "execution_count": 10,
   "metadata": {
    "collapsed": false
   },
   "outputs": [
    {
     "ename": "NameError",
     "evalue": "name 'strange_enroll_record' is not defined",
     "output_type": "error",
     "traceback": [
      "\u001b[0;31m---------------------------------------------------------------------------\u001b[0m",
      "\u001b[0;31mNameError\u001b[0m                                 Traceback (most recent call last)",
      "\u001b[0;32m<ipython-input-10-072669d49183>\u001b[0m in \u001b[0;36m<module>\u001b[0;34m()\u001b[0m\n\u001b[1;32m      8\u001b[0m \u001b[0mnum_zero_daycancel\u001b[0m \u001b[0;34m=\u001b[0m \u001b[0;36m0\u001b[0m\u001b[0;34m\u001b[0m\u001b[0m\n\u001b[1;32m      9\u001b[0m \u001b[0mremain_strange\u001b[0m \u001b[0;34m=\u001b[0m \u001b[0;34m[\u001b[0m\u001b[0;34m]\u001b[0m\u001b[0;34m\u001b[0m\u001b[0m\n\u001b[0;32m---> 10\u001b[0;31m \u001b[0;32mfor\u001b[0m \u001b[0mrecord\u001b[0m \u001b[0;32min\u001b[0m \u001b[0mstrange_enroll_record\u001b[0m\u001b[0;34m:\u001b[0m\u001b[0;34m\u001b[0m\u001b[0m\n\u001b[0m\u001b[1;32m     11\u001b[0m     \u001b[0;32mif\u001b[0m \u001b[0mrecord\u001b[0m\u001b[0;34m[\u001b[0m\u001b[0;34m'days_to_cancel'\u001b[0m\u001b[0;34m]\u001b[0m \u001b[0;34m==\u001b[0m \u001b[0;36m0\u001b[0m\u001b[0;34m:\u001b[0m\u001b[0;34m\u001b[0m\u001b[0m\n\u001b[1;32m     12\u001b[0m         \u001b[0mnum_zero_daycancel\u001b[0m\u001b[0;34m+=\u001b[0m\u001b[0;36m1.0\u001b[0m\u001b[0;34m\u001b[0m\u001b[0m\n",
      "\u001b[0;31mNameError\u001b[0m: name 'strange_enroll_record' is not defined"
     ]
    }
   ],
   "source": [
    "#####################################\n",
    "#                 5                 #\n",
    "#####################################\n",
    "\n",
    "## Find the number of surprising data points (enrollments missing from\n",
    "## the engagement table) that remain, if any.\n",
    "\n",
    "num_zero_daycancel = 0\n",
    "remain_strange = []\n",
    "for record in strange_enroll_record:\n",
    "    if record['days_to_cancel'] == 0:\n",
    "        num_zero_daycancel+=1.0\n",
    "    else:\n",
    "        remain_strange.append(record)\n",
    "\n",
    "print 'Zero days to cancel percentage: ', num_zero_daycancel/len(strange_enroll_record)\n",
    "print len(remain_strange)\n",
    "\n",
    "for strange in remain_strange:\n",
    "    print strange"
   ]
  },
  {
   "cell_type": "markdown",
   "metadata": {},
   "source": [
    "## Tracking Down the Remaining Problems"
   ]
  },
  {
   "cell_type": "code",
   "execution_count": 11,
   "metadata": {
    "collapsed": false
   },
   "outputs": [
    {
     "data": {
      "text/plain": [
       "6"
      ]
     },
     "execution_count": 11,
     "metadata": {},
     "output_type": "execute_result"
    }
   ],
   "source": [
    "# Create a set of the account keys for all Udacity test accounts\n",
    "udacity_test_accounts = set()\n",
    "for enrollment in enrollments:\n",
    "    if enrollment['is_udacity']:\n",
    "        udacity_test_accounts.add(enrollment['account_key'])\n",
    "len(udacity_test_accounts)"
   ]
  },
  {
   "cell_type": "code",
   "execution_count": 12,
   "metadata": {
    "collapsed": true
   },
   "outputs": [],
   "source": [
    "# Given some data with an account_key field, removes any records corresponding to Udacity test accounts\n",
    "def remove_udacity_accounts(data):\n",
    "    non_udacity_data = []\n",
    "    for data_point in data:\n",
    "        if data_point['account_key'] not in udacity_test_accounts:\n",
    "            non_udacity_data.append(data_point)\n",
    "    return non_udacity_data"
   ]
  },
  {
   "cell_type": "code",
   "execution_count": 13,
   "metadata": {
    "collapsed": false
   },
   "outputs": [
    {
     "name": "stdout",
     "output_type": "stream",
     "text": [
      "1622\n",
      "135656\n",
      "3634\n"
     ]
    }
   ],
   "source": [
    "# Remove Udacity test accounts from all three tables\n",
    "non_udacity_enrollments = remove_udacity_accounts(enrollments)\n",
    "non_udacity_engagement = remove_udacity_accounts(daily_engagement)\n",
    "non_udacity_submissions = remove_udacity_accounts(project_submissions)\n",
    "\n",
    "print len(non_udacity_enrollments)\n",
    "print len(non_udacity_engagement)\n",
    "print len(non_udacity_submissions)"
   ]
  },
  {
   "cell_type": "markdown",
   "metadata": {},
   "source": [
    "## Refining the Question"
   ]
  },
  {
   "cell_type": "code",
   "execution_count": 14,
   "metadata": {
    "collapsed": false
   },
   "outputs": [
    {
     "name": "stdout",
     "output_type": "stream",
     "text": [
      "995\n"
     ]
    }
   ],
   "source": [
    "#####################################\n",
    "#                 6                 #\n",
    "#####################################\n",
    "\n",
    "## Create a dictionary named paid_students containing all students who either\n",
    "## haven't canceled yet or who remained enrolled for more than 7 days. The keys\n",
    "## should be account keys, and the values should be the date the student enrolled.\n",
    "\n",
    "paid_students = {}\n",
    "\n",
    "for enrollment in non_udacity_enrollments[:]:\n",
    "    if enrollment['days_to_cancel'] > 7 or not enrollment['is_canceled']:\n",
    "        account_key = enrollment['account_key']\n",
    "        enroll_date = enrollment['join_date']\n",
    "        \n",
    "        if account_key not in paid_students or \\\n",
    "                enroll_date > paid_students[account_key]:\n",
    "            paid_students[account_key] = enroll_date\n",
    "\n",
    "print len(paid_students)"
   ]
  },
  {
   "cell_type": "markdown",
   "metadata": {},
   "source": [
    "## Getting Data from First Week"
   ]
  },
  {
   "cell_type": "code",
   "execution_count": 15,
   "metadata": {
    "collapsed": true
   },
   "outputs": [],
   "source": [
    "# Takes a student's join date and the date of a specific engagement record,\n",
    "# and returns True if that engagement record happened within one week\n",
    "# of the student joining.\n",
    "def within_one_week(join_date, engagement_date):\n",
    "    time_delta = engagement_date - join_date\n",
    "    return time_delta.days < 7 and time_delta.days >= 0"
   ]
  },
  {
   "cell_type": "code",
   "execution_count": 16,
   "metadata": {
    "collapsed": false
   },
   "outputs": [
    {
     "name": "stdout",
     "output_type": "stream",
     "text": [
      "1293 134549 3618\n",
      "6919\n"
     ]
    }
   ],
   "source": [
    "#####################################\n",
    "#                 7                 #\n",
    "#####################################\n",
    "\n",
    "## Create a list of rows from the engagement table including only rows where\n",
    "## the student is one of the paid students you just found, and the date is within\n",
    "## one week of the student's join date.\n",
    "def remove_free_trial_canceled(data):\n",
    "    new_data = []\n",
    "    for data_point in data:\n",
    "        if data_point['account_key'] in paid_students:\n",
    "            new_data.append(data_point)\n",
    "    return new_data\n",
    "\n",
    "paid_enrollments = remove_free_trial_canceled(non_udacity_enrollments)\n",
    "paid_engagement = remove_free_trial_canceled(non_udacity_engagement)\n",
    "paid_submission = remove_free_trial_canceled(non_udacity_submissions)\n",
    "\n",
    "print len(paid_enrollments), len(paid_engagement), len(paid_submission)\n",
    "paid_engagement_in_first_week = []\n",
    "\n",
    "for engagement in paid_engagement:\n",
    "        account_key = engagement['account_key']\n",
    "        join_date = paid_students[account_key]\n",
    "        engage_date = engagement['utc_date']\n",
    "        if within_one_week(join_date, engage_date):\n",
    "            paid_engagement_in_first_week.append(engagement)\n",
    "\n",
    "print(len(paid_engagement_in_first_week))"
   ]
  },
  {
   "cell_type": "markdown",
   "metadata": {},
   "source": [
    "## Exploring Student Engagement"
   ]
  },
  {
   "cell_type": "code",
   "execution_count": 17,
   "metadata": {
    "collapsed": false
   },
   "outputs": [],
   "source": [
    "from collections import defaultdict\n",
    "\n",
    "# Create a dictionary of engagement grouped by student.\n",
    "# The keys are account keys, and the values are lists of engagement records.\n",
    "\n",
    "def group_data(data, key_name):\n",
    "    grouped_data = defaultdict(list)\n",
    "    for data_point in data:\n",
    "        key = data_point[key_name]\n",
    "        grouped_data[key].append(data_point)\n",
    "    return grouped_data\n",
    "\n",
    "engagement_by_account = group_data(paid_engagement_in_first_week,\n",
    "                                  'account_key')"
   ]
  },
  {
   "cell_type": "code",
   "execution_count": 18,
   "metadata": {
    "collapsed": false
   },
   "outputs": [],
   "source": [
    "# Create a dictionary with the total minutes each student spent in the classroom during the first week.\n",
    "# The keys are account keys, and the values are numbers (total minutes)\n",
    "\n",
    "def total_of_attribute(grouped_data, filed_name):\n",
    "    total_by_account = {}\n",
    "    for key, data_points in grouped_data.items():\n",
    "        total = 0\n",
    "        for data_point in data_points:\n",
    "            total += data_point[filed_name]\n",
    "        total_by_account[key] = total\n",
    "    return total_by_account\n",
    "\n",
    "total_minutes_by_account = total_of_attribute(engagement_by_account,'total_minutes_visited')"
   ]
  },
  {
   "cell_type": "code",
   "execution_count": 19,
   "metadata": {
    "collapsed": false
   },
   "outputs": [
    {
     "name": "stdout",
     "output_type": "stream",
     "text": [
      "Mean: 306.708326753\n",
      "Standard deviation: 412.996933409\n",
      "Minimum: 0.0\n",
      "Maximum: 3564.7332645\n"
     ]
    }
   ],
   "source": [
    "import numpy as np\n",
    "\n",
    "# Summarize the data about minutes spent in the classroom\n",
    "def calculate_statistic(data):    \n",
    "    print 'Mean:', np.mean(data)\n",
    "    print 'Standard deviation:', np.std(data)\n",
    "    print 'Minimum:', np.min(data)\n",
    "    print 'Maximum:', np.max(data)\n",
    "\n",
    "total_minutes = total_minutes_by_account.values()\n",
    "calculate_statistic(total_minutes)"
   ]
  },
  {
   "cell_type": "markdown",
   "metadata": {},
   "source": [
    "## Debugging Data Analysis Code"
   ]
  },
  {
   "cell_type": "code",
   "execution_count": 20,
   "metadata": {
    "collapsed": false,
    "scrolled": true
   },
   "outputs": [
    {
     "name": "stdout",
     "output_type": "stream",
     "text": [
      "0\n"
     ]
    }
   ],
   "source": [
    "#####################################\n",
    "#                 8                 #\n",
    "#####################################\n",
    "\n",
    "## Go through a similar process as before to see if there is a problem.\n",
    "## Locate at least one surprising piece of data, output it, and take a look at it.\n",
    "total_minutes_a_week = 7*24*60;\n",
    "\n",
    "problem_account = []\n",
    "for account_key in total_minutes_by_account:\n",
    "    if total_minutes_by_account[account_key] > total_minutes_a_week:\n",
    "        problem_account.append(account_key)\n",
    "\n",
    "print len(problem_account)\n",
    "problem_account_record = []\n",
    "for record in paid_engagement_in_first_week:\n",
    "    if record['account_key'] in problem_account:\n",
    "        problem_account_record.append(record)\n",
    "problem_account_enroll = []\n",
    "for record in paid_enrollments:\n",
    "    if record['account_key'] in problem_account:\n",
    "        problem_account_enroll.append(record)\n",
    "\n"
   ]
  },
  {
   "cell_type": "markdown",
   "metadata": {},
   "source": [
    "## Lessons Completed in First Week"
   ]
  },
  {
   "cell_type": "code",
   "execution_count": 21,
   "metadata": {
    "collapsed": false
   },
   "outputs": [],
   "source": [
    "#####################################\n",
    "#                 9                 #\n",
    "#####################################\n",
    "\n",
    "## Adapt the code above to find the mean, standard deviation, minimum, and maximum for\n",
    "## the number of lessons completed by each student during the first week. Try creating\n",
    "## one or more functions to re-use the code above.\n",
    "total_completed_lessons_by_account = total_of_attribute(engagement_by_account,'lessons_completed')\n",
    "total_completed_lessons = total_completed_lessons_by_account.values()\n",
    "# for i in total_completed_lessons_by_account:\n",
    "#     print total_completed_lessons_by_account[i]\n",
    "# print total_completed_lessons"
   ]
  },
  {
   "cell_type": "code",
   "execution_count": 22,
   "metadata": {
    "collapsed": false
   },
   "outputs": [
    {
     "name": "stdout",
     "output_type": "stream",
     "text": [
      "Mean: 1.63618090452\n",
      "Standard deviation: 3.00256129983\n",
      "Minimum: 0\n",
      "Maximum: 36\n"
     ]
    }
   ],
   "source": [
    "calculate_statistic(total_completed_lessons)"
   ]
  },
  {
   "cell_type": "markdown",
   "metadata": {},
   "source": [
    "## Number of Visits in First Week"
   ]
  },
  {
   "cell_type": "code",
   "execution_count": 23,
   "metadata": {
    "collapsed": false
   },
   "outputs": [],
   "source": [
    "######################################\n",
    "#                 10                 #\n",
    "######################################\n",
    "\n",
    "## Find the mean, standard deviation, minimum, and maximum for the number of\n",
    "## days each student visits the classroom during the first week.\n",
    "for record in paid_engagement_in_first_week:\n",
    "    if record['num_courses_visited'] > 0:\n",
    "        record['is_visited'] = 1\n",
    "    else:\n",
    "        record['is_visited'] = 0\n"
   ]
  },
  {
   "cell_type": "code",
   "execution_count": 24,
   "metadata": {
    "collapsed": false
   },
   "outputs": [
    {
     "name": "stdout",
     "output_type": "stream",
     "text": [
      "995\n",
      "Mean: 2.86733668342\n",
      "Standard deviation: 2.25519800292\n",
      "Minimum: 0\n",
      "Maximum: 7\n"
     ]
    }
   ],
   "source": [
    "engagement_by_account = group_data(paid_engagement_in_first_week,\n",
    "                                  'account_key')\n",
    "total_days_visited_by_count = total_of_attribute(engagement_by_account,'is_visited')\n",
    "# print total_days_visited_by_count\n",
    "print len(total_days_visited_by_count)\n",
    "calculate_statistic(total_days_visited_by_count.values())"
   ]
  },
  {
   "cell_type": "markdown",
   "metadata": {},
   "source": [
    "## Splitting out Passing Students"
   ]
  },
  {
   "cell_type": "code",
   "execution_count": 25,
   "metadata": {
    "collapsed": false
   },
   "outputs": [
    {
     "name": "stdout",
     "output_type": "stream",
     "text": [
      "647 2392\n",
      "4527 2392\n"
     ]
    }
   ],
   "source": [
    "######################################\n",
    "#                 11                 #\n",
    "######################################\n",
    "\n",
    "## Create two lists of engagement data for paid students in the first week.\n",
    "## The first list should contain data for students who eventually pass the\n",
    "## subway project, and the second list should contain data for students\n",
    "## who do not.\n",
    "\n",
    "subway_project_lesson_keys = ['746169184', '3176718735']\n",
    "passing_engagement = []\n",
    "non_passing_engagement = []\n",
    "\n",
    "pass_student = set()\n",
    "non_pass_student = set()\n",
    "for submission in paid_submission:\n",
    "    if submission['lesson_key'] in subway_project_lesson_keys:\n",
    "        rating = submission['assigned_rating']\n",
    "        account_key = submission['account_key']\n",
    "        if rating == 'PASSED' or rating == 'DISTINCTION':\n",
    "            pass_student.add(account_key)\n",
    "        elif rating == 'INCOMPLETE' or rating == 'UNGRADED':\n",
    "            non_pass_student.add(account_key)\n",
    "\n",
    "for engagement in paid_engagement_in_first_week:\n",
    "    account_key = engagement['account_key']\n",
    "    if account_key in pass_student:\n",
    "        passing_engagement.append(engagement)\n",
    "    else:\n",
    "        non_passing_engagement.append(engagement)\n",
    "            \n",
    "# paid_submission[0]\n",
    "print len(pass_student),len(non_passing_engagement)\n",
    "print len(passing_engagement), len(non_passing_engagement)"
   ]
  },
  {
   "cell_type": "markdown",
   "metadata": {},
   "source": [
    "## Comparing the Two Student Groups"
   ]
  },
  {
   "cell_type": "code",
   "execution_count": 26,
   "metadata": {
    "collapsed": false
   },
   "outputs": [],
   "source": [
    "######################################\n",
    "#                 12                 #\n",
    "######################################\n",
    "\n",
    "## Compute some metrics you're interested in and see how they differ for\n",
    "## students who pass the subway project vs. students who don't. A good\n",
    "## starting point would be the metrics we looked at earlier (minutes spent\n",
    "## in the classroom, lessons completed, and days visited).\n",
    "pass_engagement_by_account = group_data(passing_engagement,'account_key')\n",
    "non_pass_engagement_by_account = group_data(non_passing_engagement,'account_key')\n",
    "\n",
    "def compare_pass_non_pass(pass_engagement_by_account,non_pass_engagement_by_account,fieldname):\n",
    "    print \"%s data of passing group:\"%fieldname\n",
    "    total_pass = total_of_attribute(pass_engagement_by_account, fieldname)\n",
    "    calculate_statistic(total_pass.values())\n",
    "    print \"%s data of non-passing group:\"%fieldname\n",
    "    total_non_pass = total_of_attribute(non_pass_engagement_by_account, fieldname)\n",
    "    calculate_statistic(total_non_pass.values())\n"
   ]
  },
  {
   "cell_type": "code",
   "execution_count": 243,
   "metadata": {
    "collapsed": false
   },
   "outputs": [
    {
     "name": "stdout",
     "output_type": "stream",
     "text": [
      "total_minutes_visited data of passing group:\n",
      "Mean: 394.586046484\n",
      "Standard deviation: 448.499519327\n",
      "Minimum: 0.0\n",
      "Maximum: 3564.7332645\n",
      "total_minutes_visited data of non-passing group:\n",
      "Mean: 143.326474267\n",
      "Standard deviation: 269.538619011\n",
      "Minimum: 0.0\n",
      "Maximum: 1768.52274933\n",
      "\n",
      "\n",
      "num_courses_visited data of passing group:\n",
      "Mean: 4.72642967543\n",
      "Standard deviation: 3.7002397793\n",
      "Minimum: 0\n",
      "Maximum: 25\n",
      "num_courses_visited data of non-passing group:\n",
      "Mean: 2.58908045977\n",
      "Standard deviation: 2.90670969025\n",
      "Minimum: 0\n",
      "Maximum: 18\n",
      "\n",
      "\n",
      "lessons_completed data of passing group:\n",
      "Mean: 2.05255023184\n",
      "Standard deviation: 3.14222705558\n",
      "Minimum: 0\n",
      "Maximum: 36\n",
      "lessons_completed data of non-passing group:\n",
      "Mean: 0.862068965517\n",
      "Standard deviation: 2.54915994183\n",
      "Minimum: 0\n",
      "Maximum: 27\n",
      "\n",
      "\n",
      "projects_completed data of passing group:\n",
      "Mean: 0.00927357032457\n",
      "Standard deviation: 0.110809572358\n",
      "Minimum: 0\n",
      "Maximum: 2\n",
      "projects_completed data of non-passing group:\n",
      "Mean: 0.0\n",
      "Standard deviation: 0.0\n",
      "Minimum: 0\n",
      "Maximum: 0\n",
      "\n",
      "\n",
      "is_visited data of passing group:\n",
      "Mean: 3.38485316847\n",
      "Standard deviation: 2.25882147092\n",
      "Minimum: 0\n",
      "Maximum: 7\n",
      "is_visited data of non-passing group:\n",
      "Mean: 1.90517241379\n",
      "Standard deviation: 1.90573144136\n",
      "Minimum: 0\n",
      "Maximum: 7\n"
     ]
    }
   ],
   "source": [
    "compare_pass_non_pass(pass_engagement_by_account,\n",
    "                      non_pass_engagement_by_account,\n",
    "                      'total_minutes_visited')\n",
    "print '\\n'\n",
    "compare_pass_non_pass(pass_engagement_by_account,\n",
    "                      non_pass_engagement_by_account,\n",
    "                      'num_courses_visited')\n",
    "print '\\n'\n",
    "compare_pass_non_pass(pass_engagement_by_account,\n",
    "                      non_pass_engagement_by_account,\n",
    "                      'lessons_completed')\n",
    "print '\\n'\n",
    "compare_pass_non_pass(pass_engagement_by_account,\n",
    "                      non_pass_engagement_by_account,\n",
    "                      'projects_completed')\n",
    "print '\\n'\n",
    "compare_pass_non_pass(pass_engagement_by_account,\n",
    "                      non_pass_engagement_by_account,\n",
    "                      'is_visited')"
   ]
  },
  {
   "cell_type": "code",
   "execution_count": 27,
   "metadata": {
    "collapsed": false
   },
   "outputs": [
    {
     "name": "stdout",
     "output_type": "stream",
     "text": [
      "Pass:\n",
      "Mean: 0.0784244338944\n",
      "Standard deviation: 0.0785316037523\n",
      "Minimum: 0.0\n",
      "Maximum: 0.573405385609\n",
      "Non_pass:\n",
      "Mean: 0.0779952348584\n",
      "Standard deviation: 0.12533484732\n",
      "Minimum: 0.0\n",
      "Maximum: 0.90105367\n"
     ]
    }
   ],
   "source": [
    "print \"Pass:\"\n",
    "total_pass = total_of_attribute(pass_engagement_by_account, 'total_minutes_visited')\n",
    "norm = total_pass.values() / np.linalg.norm(total_pass.values())\n",
    "total_pass = total_of_attribute(pass_engagement_by_account, 'num_courses_visited')\n",
    "norm += total_pass.values() / np.linalg.norm(total_pass.values())\n",
    "total_pass = total_of_attribute(pass_engagement_by_account, 'lessons_completed')\n",
    "norm += total_pass.values() / np.linalg.norm(total_pass.values())\n",
    "calculate_statistic(norm)\n",
    "print \"Non_pass:\"\n",
    "total_pass = total_of_attribute(non_pass_engagement_by_account, 'total_minutes_visited')\n",
    "norm = total_pass.values() / np.linalg.norm(total_pass.values())\n",
    "total_pass = total_of_attribute(non_pass_engagement_by_account, 'num_courses_visited')\n",
    "norm += total_pass.values() / np.linalg.norm(total_pass.values())\n",
    "total_pass = total_of_attribute(non_pass_engagement_by_account, 'lessons_completed')\n",
    "norm += total_pass.values() / np.linalg.norm(total_pass.values())\n",
    "calculate_statistic(norm)"
   ]
  },
  {
   "cell_type": "markdown",
   "metadata": {},
   "source": [
    "## Making Histograms"
   ]
  },
  {
   "cell_type": "code",
   "execution_count": 28,
   "metadata": {
    "collapsed": false
   },
   "outputs": [
    {
     "data": {
      "image/png": "[encoded data removed]",
      "text/plain": [
       "<matplotlib.figure.Figure at 0xa7253cac>"
      ]
     },
     "metadata": {},
     "output_type": "display_data"
    },
    {
     "data": {
      "image/png": "[encoded data removed]",
      "text/plain": [
       "<matplotlib.figure.Figure at 0xa71d574c>"
      ]
     },
     "metadata": {},
     "output_type": "display_data"
    }
   ],
   "source": [
    "######################################\n",
    "#                 13                 #\n",
    "######################################\n",
    "\n",
    "## Make histograms of the three metrics we looked at earlier for both\n",
    "## students who passed the subway project and students who didn't. You\n",
    "## might also want to make histograms of any other metrics you examined.\n",
    "def hist_pass_non_pass(pass_engagement_by_account,\n",
    "                       non_pass_engagement_by_account,\n",
    "                       fieldname, bin_num,\n",
    "                       x_label, y_label, title):\n",
    "    total_pass = total_of_attribute(pass_engagement_by_account, fieldname)\n",
    "    fig, axes = plt.subplots()\n",
    "    plt.hist(total_pass.values(),bins=bin_num)\n",
    "    plt.xlabel(x_label)\n",
    "    plt.ylabel(y_label)\n",
    "    plt.title(title+'passing student')\n",
    "    total_non_pass = total_of_attribute(non_pass_engagement_by_account, fieldname)\n",
    "    fig, axes = plt.subplots()\n",
    "    plt.hist(total_non_pass.values(), bins=bin_num)\n",
    "    plt.xlabel(x_label)\n",
    "    plt.ylabel(y_label)\n",
    "    plt.title(title+'non-passing student')\n",
    "\n",
    "    \n",
    "%matplotlib inline\n",
    "import matplotlib.pyplot as plt\n",
    "import seaborn as sns\n",
    "# hist_pass_non_pass(pass_engagement_by_account,\n",
    "#                       non_pass_engagement_by_account,\n",
    "#                       'total_minutes_visited')\n",
    "hist_pass_non_pass(pass_engagement_by_account,\n",
    "                    non_pass_engagement_by_account,\n",
    "                    'is_visited',8,\n",
    "                    'Days in a week',\n",
    "                    'Student number',\n",
    "                    'Days engagement of ')\n"
   ]
  },
  {
   "cell_type": "markdown",
   "metadata": {},
   "source": [
    "## Improving Plots and Sharing Findings"
   ]
  },
  {
   "cell_type": "code",
   "execution_count": 261,
   "metadata": {
    "collapsed": false
   },
   "outputs": [
    {
     "data": {
      "image/png": "[encoded data removed]",
      "text/plain": [
       "<matplotlib.figure.Figure at 0xad46bbcc>"
      ]
     },
     "metadata": {},
     "output_type": "display_data"
    },
    {
     "data": {
      "image/png": "[encoded data removed]",
      "text/plain": [
       "<matplotlib.figure.Figure at 0xad5d112c>"
      ]
     },
     "metadata": {},
     "output_type": "display_data"
    }
   ],
   "source": [
    "######################################\n",
    "#                 14                 #\n",
    "######################################\n",
    "\n",
    "## Make a more polished version of at least one of your visualizations\n",
    "## from earlier. Try importing the seaborn library to make the visualization\n",
    "## look better, adding axis labels and a title, and changing one or more\n",
    "## arguments to the hist() function.\n",
    "hist_pass_non_pass(pass_engagement_by_account,\n",
    "                      non_pass_engagement_by_account,\n",
    "                      'total_minutes_visited',10)"
   ]
  },
  {
   "cell_type": "code",
   "execution_count": null,
   "metadata": {
    "collapsed": true
   },
   "outputs": [],
   "source": []
  }
 ],
 "metadata": {
  "anaconda-cloud": {},
  "kernelspec": {
   "display_name": "Python [default]",
   "language": "python",
   "name": "python2"
  },
  "language_info": {
   "codemirror_mode": {
    "name": "ipython",
    "version": 2
   },
   "file_extension": ".py",
   "mimetype": "text/x-python",
   "name": "python",
   "nbconvert_exporter": "python",
   "pygments_lexer": "ipython2",
   "version": "2.7.12"
  }
 },
 "nbformat": 4,
 "nbformat_minor": 0
}
